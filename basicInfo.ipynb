{
 "cells": [
  {
   "cell_type": "code",
   "execution_count": 1,
   "metadata": {},
   "outputs": [
    {
     "name": "stdout",
     "output_type": "stream",
     "text": [
      "My Name is: Mariyum Bashir.\n",
      "Father Name: Bashir Muhammad Noor.\n",
      "Age: 22\n",
      "Current Address: D-304, Rabia Garden, Block-17.\n",
      "Email: mariyum098@gmail.com\n",
      "Name of Institution: Sir Syed University Of Engineering and Technology.\n",
      "Education Level: Undergraduate.\n"
     ]
    }
   ],
   "source": [
    "name = \"Mariyum Bashir.\"\n",
    "father_name = \"Bashir Muhammad Noor.\"\n",
    "age = 22\n",
    "address = \"D-304, Rabia Garden, Block-17.\"\n",
    "email = \"mariyum098@gmail.com\"\n",
    "institution_name = \"Sir Syed University Of Engineering and Technology.\"\n",
    "education_level = \"Undergraduate.\"\n",
    "print(\"My Name is:\", name)\n",
    "print(\"Father Name:\", father_name)\n",
    "print(\"Age:\", age)\n",
    "print(\"Current Address:\", address)\n",
    "print(\"Email:\", email)\n",
    "print(\"Name of Institution:\", institution_name)\n",
    "print(\"Education Level:\", education_level)"
   ]
  },
  {
   "cell_type": "code",
   "execution_count": null,
   "metadata": {},
   "outputs": [],
   "source": []
  }
 ],
 "metadata": {
  "kernelspec": {
   "display_name": "Python 3",
   "language": "python",
   "name": "python3"
  },
  "language_info": {
   "codemirror_mode": {
    "name": "ipython",
    "version": 3
   },
   "file_extension": ".py",
   "mimetype": "text/x-python",
   "name": "python",
   "nbconvert_exporter": "python",
   "pygments_lexer": "ipython3",
   "version": "3.7.4"
  }
 },
 "nbformat": 4,
 "nbformat_minor": 2
}
